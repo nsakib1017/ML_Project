{
 "cells": [
  {
   "cell_type": "code",
   "execution_count": 1,
   "metadata": {},
   "outputs": [
    {
     "name": "stderr",
     "output_type": "stream",
     "text": [
      "Using TensorFlow backend.\n"
     ]
    }
   ],
   "source": [
    "import numpy as np\n",
    "import pandas as pd \n",
    "\n",
    "from sklearn.feature_extraction.text import CountVectorizer\n",
    "from keras.preprocessing.text import Tokenizer\n",
    "from keras.regularizers import l1,l2\n",
    "from keras.preprocessing.sequence import pad_sequences\n",
    "from keras.models import Sequential\n",
    "from keras.layers import Dense, Embedding, SpatialDropout1D, Conv1D, MaxPooling1D,Flatten\n",
    "from sklearn.model_selection import train_test_split\n",
    "from keras.utils.np_utils import to_categorical\n",
    "import re"
   ]
  },
  {
   "cell_type": "code",
   "execution_count": 2,
   "metadata": {
    "scrolled": true
   },
   "outputs": [
    {
     "data": {
      "text/html": [
       "<div>\n",
       "<style scoped>\n",
       "    .dataframe tbody tr th:only-of-type {\n",
       "        vertical-align: middle;\n",
       "    }\n",
       "\n",
       "    .dataframe tbody tr th {\n",
       "        vertical-align: top;\n",
       "    }\n",
       "\n",
       "    .dataframe thead th {\n",
       "        text-align: right;\n",
       "    }\n",
       "</style>\n",
       "<table border=\"1\" class=\"dataframe\">\n",
       "  <thead>\n",
       "    <tr style=\"text-align: right;\">\n",
       "      <th></th>\n",
       "      <th>text</th>\n",
       "      <th>sentiment_score</th>\n",
       "      <th>sentiment</th>\n",
       "    </tr>\n",
       "  </thead>\n",
       "  <tbody>\n",
       "    <tr>\n",
       "      <th>0</th>\n",
       "      <td>johnconyersjr  alfranken  why have you guys no...</td>\n",
       "      <td>0.2575</td>\n",
       "      <td>loosely positive</td>\n",
       "    </tr>\n",
       "    <tr>\n",
       "      <th>1</th>\n",
       "      <td>women have been talking about this crap the en...</td>\n",
       "      <td>-0.4588</td>\n",
       "      <td>loosely negative</td>\n",
       "    </tr>\n",
       "    <tr>\n",
       "      <th>2</th>\n",
       "      <td>bettemidler please speak to this sexual assaul...</td>\n",
       "      <td>-0.3612</td>\n",
       "      <td>loosely negative</td>\n",
       "    </tr>\n",
       "    <tr>\n",
       "      <th>3</th>\n",
       "      <td>we cant keep turning a blind eye and pretend t...</td>\n",
       "      <td>0.2163</td>\n",
       "      <td>loosely positive</td>\n",
       "    </tr>\n",
       "    <tr>\n",
       "      <th>4</th>\n",
       "      <td>jayz is saying what ive been saying djts jobis...</td>\n",
       "      <td>-0.6249</td>\n",
       "      <td>strongly negative</td>\n",
       "    </tr>\n",
       "  </tbody>\n",
       "</table>\n",
       "</div>"
      ],
      "text/plain": [
       "                                                text  sentiment_score  \\\n",
       "0  johnconyersjr  alfranken  why have you guys no...           0.2575   \n",
       "1  women have been talking about this crap the en...          -0.4588   \n",
       "2  bettemidler please speak to this sexual assaul...          -0.3612   \n",
       "3  we cant keep turning a blind eye and pretend t...           0.2163   \n",
       "4  jayz is saying what ive been saying djts jobis...          -0.6249   \n",
       "\n",
       "           sentiment  \n",
       "0   loosely positive  \n",
       "1   loosely negative  \n",
       "2   loosely negative  \n",
       "3   loosely positive  \n",
       "4  strongly negative  "
      ]
     },
     "execution_count": 2,
     "metadata": {},
     "output_type": "execute_result"
    }
   ],
   "source": [
    "data = pd.read_csv('data.csv')\n",
    "data.head()"
   ]
  },
  {
   "cell_type": "code",
   "execution_count": 3,
   "metadata": {},
   "outputs": [
    {
     "name": "stdout",
     "output_type": "stream",
     "text": [
      "(66246, 3)\n",
      "(70952, 3)\n",
      "(67601, 3)\n",
      "(73966, 3)\n"
     ]
    }
   ],
   "source": [
    "print(data[ data['sentiment'] == 'strongly positive'].shape)\n",
    "print(data[ data['sentiment'] == 'strongly negative'].shape)\n",
    "print(data[ data['sentiment'] == 'loosely positive'].shape)\n",
    "print(data[ data['sentiment'] == 'loosely negative'].shape)\n",
    "    \n",
    "max_fatures = 2000\n",
    "tokenizer = Tokenizer(num_words=max_fatures, split=' ')\n",
    "tokenizer.fit_on_texts(data['text'].values)\n",
    "X = tokenizer.texts_to_sequences(data['text'].values)\n",
    "X = pad_sequences(X)"
   ]
  },
  {
   "cell_type": "code",
   "execution_count": 4,
   "metadata": {
    "scrolled": false
   },
   "outputs": [
    {
     "name": "stdout",
     "output_type": "stream",
     "text": [
      "WARNING:tensorflow:From /var/300GB_DRIVE/ML_Project/ML/lib/python3.6/site-packages/tensorflow/python/framework/op_def_library.py:263: colocate_with (from tensorflow.python.framework.ops) is deprecated and will be removed in a future version.\n",
      "Instructions for updating:\n",
      "Colocations handled automatically by placer.\n",
      "WARNING:tensorflow:From /var/300GB_DRIVE/ML_Project/ML/lib/python3.6/site-packages/keras/backend/tensorflow_backend.py:3445: calling dropout (from tensorflow.python.ops.nn_ops) with keep_prob is deprecated and will be removed in a future version.\n",
      "Instructions for updating:\n",
      "Please use `rate` instead of `keep_prob`. Rate should be set to `rate = 1 - keep_prob`.\n",
      "_________________________________________________________________\n",
      "Layer (type)                 Output Shape              Param #   \n",
      "=================================================================\n",
      "embedding_1 (Embedding)      (None, 54, 128)           256000    \n",
      "_________________________________________________________________\n",
      "spatial_dropout1d_1 (Spatial (None, 54, 128)           0         \n",
      "_________________________________________________________________\n",
      "conv1d_1 (Conv1D)            (None, 54, 32)            20512     \n",
      "_________________________________________________________________\n",
      "max_pooling1d_1 (MaxPooling1 (None, 27, 32)            0         \n",
      "_________________________________________________________________\n",
      "conv1d_2 (Conv1D)            (None, 27, 64)            10304     \n",
      "_________________________________________________________________\n",
      "max_pooling1d_2 (MaxPooling1 (None, 13, 64)            0         \n",
      "_________________________________________________________________\n",
      "flatten_1 (Flatten)          (None, 832)               0         \n",
      "_________________________________________________________________\n",
      "dense_1 (Dense)              (None, 1000)              833000    \n",
      "_________________________________________________________________\n",
      "dense_2 (Dense)              (None, 4)                 4004      \n",
      "=================================================================\n",
      "Total params: 1,123,820\n",
      "Trainable params: 1,123,820\n",
      "Non-trainable params: 0\n",
      "_________________________________________________________________\n",
      "None\n"
     ]
    },
    {
     "name": "stderr",
     "output_type": "stream",
     "text": [
      "/var/300GB_DRIVE/ML_Project/ML/lib/python3.6/site-packages/ipykernel_launcher.py:9: UserWarning: Update your `MaxPooling1D` call to the Keras 2 API: `MaxPooling1D(pool_size=2, strides=2)`\n",
      "  if __name__ == '__main__':\n"
     ]
    }
   ],
   "source": [
    "embed_dim = 128\n",
    "\n",
    "model = Sequential()\n",
    "model.add(Embedding(max_fatures, embed_dim,input_length = X.shape[1]))\n",
    "model.add(SpatialDropout1D(0.4))\n",
    "model.add(Conv1D(32, kernel_size=5, activation='relu',padding='same',bias_regularizer=l2(0.1)))\n",
    "model.add(MaxPooling1D(pool_size=2, strides=2))\n",
    "model.add(Conv1D(64, 5, activation='relu', padding='same', bias_regularizer=l2(0.1)))\n",
    "model.add(MaxPooling1D(pool_size=2,stride=2))\n",
    "model.add(Flatten())\n",
    "model.add(Dense(1000, activation='relu',bias_regularizer=l2(0.1)))\n",
    "model.add(Dense(4, activation='softmax'))\n",
    "model.compile(loss = 'categorical_crossentropy', optimizer='adam',metrics = ['accuracy'])\n",
    "print(model.summary())"
   ]
  },
  {
   "cell_type": "code",
   "execution_count": 5,
   "metadata": {},
   "outputs": [
    {
     "name": "stdout",
     "output_type": "stream",
     "text": [
      "(139382, 54) (139382, 4)\n",
      "(139383, 54) (139383, 4)\n"
     ]
    }
   ],
   "source": [
    "Y = pd.get_dummies(data['sentiment']).values\n",
    "X_train, X_test, Y_train, Y_test = train_test_split(X,Y, test_size = 0.5, random_state = 100)\n",
    "print(X_train.shape,Y_train.shape)\n",
    "print(X_test.shape,Y_test.shape)\n",
    "#print(Y)"
   ]
  },
  {
   "cell_type": "code",
   "execution_count": 6,
   "metadata": {
    "scrolled": false
   },
   "outputs": [
    {
     "name": "stdout",
     "output_type": "stream",
     "text": [
      "WARNING:tensorflow:From /var/300GB_DRIVE/ML_Project/ML/lib/python3.6/site-packages/tensorflow/python/ops/math_ops.py:3066: to_int32 (from tensorflow.python.ops.math_ops) is deprecated and will be removed in a future version.\n",
      "Instructions for updating:\n",
      "Use tf.cast instead.\n",
      "Epoch 1/40\n",
      " - 103s - loss: 0.5347 - acc: 0.7814\n",
      "Epoch 2/40\n",
      " - 101s - loss: 0.4015 - acc: 0.8419\n",
      "Epoch 3/40\n",
      " - 99s - loss: 0.3630 - acc: 0.8575\n",
      "Epoch 4/40\n",
      " - 100s - loss: 0.3393 - acc: 0.8672\n",
      "Epoch 5/40\n",
      " - 100s - loss: 0.3218 - acc: 0.8745\n",
      "Epoch 6/40\n",
      " - 98s - loss: 0.3081 - acc: 0.8798\n",
      "Epoch 7/40\n",
      " - 97s - loss: 0.2950 - acc: 0.8847\n",
      "Epoch 8/40\n",
      " - 97s - loss: 0.2853 - acc: 0.8888\n",
      "Epoch 9/40\n",
      " - 97s - loss: 0.2772 - acc: 0.8921\n",
      "Epoch 10/40\n",
      " - 105s - loss: 0.2699 - acc: 0.8948\n",
      "Epoch 11/40\n",
      " - 102s - loss: 0.2624 - acc: 0.8978\n",
      "Epoch 12/40\n",
      " - 97s - loss: 0.2606 - acc: 0.8989\n",
      "Epoch 13/40\n",
      " - 97s - loss: 0.2527 - acc: 0.9023\n",
      "Epoch 14/40\n",
      " - 97s - loss: 0.2499 - acc: 0.9032\n",
      "Epoch 15/40\n",
      " - 96s - loss: 0.2440 - acc: 0.9049\n",
      "Epoch 16/40\n",
      " - 96s - loss: 0.2422 - acc: 0.9067\n",
      "Epoch 17/40\n",
      " - 96s - loss: 0.2354 - acc: 0.9081\n",
      "Epoch 18/40\n",
      " - 96s - loss: 0.2345 - acc: 0.9090\n",
      "Epoch 19/40\n",
      " - 96s - loss: 0.2311 - acc: 0.9111\n",
      "Epoch 20/40\n",
      " - 96s - loss: 0.2294 - acc: 0.9116\n",
      "Epoch 21/40\n",
      " - 96s - loss: 0.2285 - acc: 0.9126\n",
      "Epoch 22/40\n",
      " - 96s - loss: 0.2232 - acc: 0.9145\n",
      "Epoch 23/40\n",
      " - 96s - loss: 0.2221 - acc: 0.9142\n",
      "Epoch 24/40\n",
      " - 96s - loss: 0.2190 - acc: 0.9163\n",
      "Epoch 25/40\n",
      " - 97s - loss: 0.2172 - acc: 0.9158\n",
      "Epoch 26/40\n",
      " - 97s - loss: 0.2154 - acc: 0.9168\n",
      "Epoch 27/40\n",
      " - 96s - loss: 0.2138 - acc: 0.9178\n",
      "Epoch 28/40\n",
      " - 96s - loss: 0.2134 - acc: 0.9187\n",
      "Epoch 29/40\n",
      " - 96s - loss: 0.2108 - acc: 0.9191\n",
      "Epoch 30/40\n",
      " - 96s - loss: 0.2101 - acc: 0.9197\n",
      "Epoch 31/40\n",
      " - 97s - loss: 0.2081 - acc: 0.9206\n",
      "Epoch 32/40\n",
      " - 96s - loss: 0.2066 - acc: 0.9215\n",
      "Epoch 33/40\n",
      " - 96s - loss: 0.2075 - acc: 0.9211\n",
      "Epoch 34/40\n",
      " - 97s - loss: 0.2056 - acc: 0.9225\n",
      "Epoch 35/40\n",
      " - 98s - loss: 0.2019 - acc: 0.9235\n",
      "Epoch 36/40\n",
      " - 98s - loss: 0.2026 - acc: 0.9229\n",
      "Epoch 37/40\n",
      " - 97s - loss: 0.2014 - acc: 0.9231\n",
      "Epoch 38/40\n",
      " - 96s - loss: 0.2011 - acc: 0.9229\n",
      "Epoch 39/40\n",
      " - 96s - loss: 0.1980 - acc: 0.9245\n",
      "Epoch 40/40\n",
      " - 96s - loss: 0.1991 - acc: 0.9253\n"
     ]
    },
    {
     "data": {
      "text/plain": [
       "<keras.callbacks.History at 0x7ff21c1b8198>"
      ]
     },
     "execution_count": 6,
     "metadata": {},
     "output_type": "execute_result"
    }
   ],
   "source": [
    "batch_size = 32\n",
    "model.fit(X_train, Y_train, epochs = 40, batch_size=batch_size, verbose = 2)"
   ]
  },
  {
   "cell_type": "code",
   "execution_count": 7,
   "metadata": {
    "scrolled": true
   },
   "outputs": [
    {
     "name": "stdout",
     "output_type": "stream",
     "text": [
      "score: 0.53\n",
      "acc: 0.87\n"
     ]
    }
   ],
   "source": [
    "validation_size = 68000\n",
    "\n",
    "X_validate = X_test[-validation_size:]\n",
    "Y_validate = Y_test[-validation_size:]\n",
    "X_test = X_test[:-validation_size]\n",
    "Y_test = Y_test[:-validation_size]\n",
    "score,acc = model.evaluate(X_test, Y_test, verbose = 2, batch_size = batch_size)\n",
    "print(\"score: %.2f\" % (score))\n",
    "print(\"acc: %.2f\" % (acc))"
   ]
  },
  {
   "cell_type": "code",
   "execution_count": 8,
   "metadata": {},
   "outputs": [
    {
     "name": "stdout",
     "output_type": "stream",
     "text": [
      "loosely_pos_acc 82.68019808033257 %\n",
      "loosely_neg_acc 85.47392970181575 %\n",
      "strongly_pos_acc 90.17186821368742 %\n",
      "strongly_neg_acc 89.40457840954501 %\n"
     ]
    }
   ],
   "source": [
    "#Validation\n",
    "loosely_neg_cnt,loosely_pos_cnt,strongly_neg_cnt,strongly_pos_cnt,loosely_neg_correct,loosely_pos_correct,strongly_neg_correct,strongly_pos_correct = 0,0,0,0,0,0,0,0\n",
    "\n",
    "for x in range(len(X_validate)):\n",
    "    \n",
    "    result = model.predict(X_validate[x].reshape(1,X_test.shape[1]),batch_size=1,verbose = 2)[0]\n",
    "   \n",
    "    if np.argmax(result) == np.argmax(Y_validate[x]):\n",
    "        if np.argmax(Y_validate[x]) == 0:\n",
    "            loosely_neg_correct += 1\n",
    "        elif np.argmax(Y_validate[x]) == 1:\n",
    "            loosely_pos_correct += 1\n",
    "        elif np.argmax(Y_validate[x]) == 2:\n",
    "            strongly_neg_correct += 1\n",
    "        elif np.argmax(Y_validate[x]) == 3:\n",
    "            strongly_pos_correct += 1\n",
    "            \n",
    "    if np.argmax(Y_validate[x]) == 0:\n",
    "        loosely_neg_cnt += 1\n",
    "    elif np.argmax(Y_validate[x]) == 1:\n",
    "        loosely_pos_cnt += 1\n",
    "    elif np.argmax(Y_validate[x]) == 2:\n",
    "        strongly_neg_cnt += 1\n",
    "    elif np.argmax(Y_validate[x]) == 3:\n",
    "        strongly_pos_cnt += 1\n",
    "\n",
    "print(\"loosely_pos_acc\", loosely_pos_correct/loosely_pos_cnt*100, \"%\")\n",
    "print(\"loosely_neg_acc\", loosely_neg_correct/loosely_neg_cnt*100, \"%\")\n",
    "print(\"strongly_pos_acc\", strongly_pos_correct/strongly_pos_cnt*100, \"%\")\n",
    "print(\"strongly_neg_acc\", strongly_neg_correct/strongly_neg_cnt*100, \"%\")"
   ]
  },
  {
   "cell_type": "code",
   "execution_count": 10,
   "metadata": {},
   "outputs": [
    {
     "name": "stdout",
     "output_type": "stream",
     "text": [
      "[[  0   0   0   0   0   0   0   0   0   0   0   0   0   0   0   0   0   0\n",
      "    0   0   0   0   0   0   0   0   0   0   0   0   0   0   0   0   0   0\n",
      "    0   0   0   0   0   0   0   0   0 135   5  44   8  29  29  31   5  44]]\n",
      "Strongly Negative\n"
     ]
    }
   ],
   "source": [
    "twt = ['Meetings: Because none of us is as dumb as all of us.']\n",
    "#vectorizing the tweet by the pre-fitted tokenizer instance\n",
    "twt = tokenizer.texts_to_sequences(twt)\n",
    "#padding the tweet to have exactly the same shape as `embedding_2` input\n",
    "twt = pad_sequences(twt, maxlen=54, dtype='int32', value=0)\n",
    "print(twt)\n",
    "sentiment = model.predict(twt,batch_size=1,verbose = 2)[0]\n",
    "sentiment\n",
    "if np.argmax(sentiment) == 0:\n",
    "    print(\"Loosely Negative\")\n",
    "elif np.argmax(sentiment) == 1:\n",
    "    print(\"Loosely Positive\")\n",
    "elif np.argmax(sentiment) == 2:\n",
    "    print(\"Strongly Negative\")\n",
    "elif np.argmax(sentiment) == 3:\n",
    "    print(\"Strongly Positive\")"
   ]
  },
  {
   "cell_type": "code",
   "execution_count": null,
   "metadata": {},
   "outputs": [],
   "source": []
  }
 ],
 "metadata": {
  "kernelspec": {
   "display_name": "Python 3",
   "language": "python",
   "name": "python3"
  },
  "language_info": {
   "codemirror_mode": {
    "name": "ipython",
    "version": 3
   },
   "file_extension": ".py",
   "mimetype": "text/x-python",
   "name": "python",
   "nbconvert_exporter": "python",
   "pygments_lexer": "ipython3",
   "version": "3.6.7"
  }
 },
 "nbformat": 4,
 "nbformat_minor": 2
}
