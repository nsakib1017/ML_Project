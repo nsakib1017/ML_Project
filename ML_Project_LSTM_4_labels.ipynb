{
 "cells": [
  {
   "cell_type": "code",
   "execution_count": 1,
   "metadata": {},
   "outputs": [
    {
     "name": "stderr",
     "output_type": "stream",
     "text": [
      "Using TensorFlow backend.\n"
     ]
    }
   ],
   "source": [
    "import numpy as np\n",
    "import pandas as pd \n",
    "\n",
    "from sklearn.feature_extraction.text import CountVectorizer\n",
    "from keras.preprocessing.text import Tokenizer\n",
    "from keras.preprocessing.sequence import pad_sequences\n",
    "from keras.models import Sequential\n",
    "from keras.layers import Dense, Embedding, LSTM, SpatialDropout1D\n",
    "from sklearn.model_selection import train_test_split\n",
    "from keras.utils.np_utils import to_categorical\n",
    "import re"
   ]
  },
  {
   "cell_type": "code",
   "execution_count": 2,
   "metadata": {
    "scrolled": true
   },
   "outputs": [
    {
     "name": "stdout",
     "output_type": "stream",
     "text": [
      "(66246, 3)\n",
      "(67601, 3)\n",
      "(73966, 3)\n",
      "(70952, 3)\n"
     ]
    }
   ],
   "source": [
    "data = pd.read_csv('data.csv')\n",
    "\n",
    "# Print the shape of different sentimental data\n",
    "print(data[(data['sentiment_score'] > .43) & (data['sentiment_score'] > 0)].shape)\n",
    "print(data[(data['sentiment_score'] <= .43) & (data['sentiment_score'] > 0)].shape)\n",
    "print(data[(data['sentiment_score'] > -.53) & (data['sentiment_score'] < 0)].shape)\n",
    "print(data[(data['sentiment_score'] <= -.53) & (data['sentiment_score'] < 0)].shape)"
   ]
  },
  {
   "cell_type": "code",
   "execution_count": 3,
   "metadata": {},
   "outputs": [
    {
     "data": {
      "text/html": [
       "<div>\n",
       "<style scoped>\n",
       "    .dataframe tbody tr th:only-of-type {\n",
       "        vertical-align: middle;\n",
       "    }\n",
       "\n",
       "    .dataframe tbody tr th {\n",
       "        vertical-align: top;\n",
       "    }\n",
       "\n",
       "    .dataframe thead th {\n",
       "        text-align: right;\n",
       "    }\n",
       "</style>\n",
       "<table border=\"1\" class=\"dataframe\">\n",
       "  <thead>\n",
       "    <tr style=\"text-align: right;\">\n",
       "      <th></th>\n",
       "      <th>text</th>\n",
       "      <th>sentiment_score</th>\n",
       "      <th>sentiment</th>\n",
       "    </tr>\n",
       "  </thead>\n",
       "  <tbody>\n",
       "    <tr>\n",
       "      <th>0</th>\n",
       "      <td>johnconyersjr  alfranken  why have you guys no...</td>\n",
       "      <td>0.2575</td>\n",
       "      <td>loosely positive</td>\n",
       "    </tr>\n",
       "    <tr>\n",
       "      <th>1</th>\n",
       "      <td>women have been talking about this crap the en...</td>\n",
       "      <td>-0.4588</td>\n",
       "      <td>loosely negative</td>\n",
       "    </tr>\n",
       "    <tr>\n",
       "      <th>2</th>\n",
       "      <td>bettemidler please speak to this sexual assaul...</td>\n",
       "      <td>-0.3612</td>\n",
       "      <td>loosely negative</td>\n",
       "    </tr>\n",
       "    <tr>\n",
       "      <th>3</th>\n",
       "      <td>we cant keep turning a blind eye and pretend t...</td>\n",
       "      <td>0.2163</td>\n",
       "      <td>loosely positive</td>\n",
       "    </tr>\n",
       "    <tr>\n",
       "      <th>4</th>\n",
       "      <td>jayz is saying what ive been saying djts jobis...</td>\n",
       "      <td>-0.6249</td>\n",
       "      <td>strongly negative</td>\n",
       "    </tr>\n",
       "  </tbody>\n",
       "</table>\n",
       "</div>"
      ],
      "text/plain": [
       "                                                text  sentiment_score  \\\n",
       "0  johnconyersjr  alfranken  why have you guys no...           0.2575   \n",
       "1  women have been talking about this crap the en...          -0.4588   \n",
       "2  bettemidler please speak to this sexual assaul...          -0.3612   \n",
       "3  we cant keep turning a blind eye and pretend t...           0.2163   \n",
       "4  jayz is saying what ive been saying djts jobis...          -0.6249   \n",
       "\n",
       "           sentiment  \n",
       "0   loosely positive  \n",
       "1   loosely negative  \n",
       "2   loosely negative  \n",
       "3   loosely positive  \n",
       "4  strongly negative  "
      ]
     },
     "execution_count": 3,
     "metadata": {},
     "output_type": "execute_result"
    }
   ],
   "source": [
    "data.head()"
   ]
  },
  {
   "cell_type": "code",
   "execution_count": 4,
   "metadata": {},
   "outputs": [
    {
     "name": "stdout",
     "output_type": "stream",
     "text": [
      "(66246, 3)\n",
      "(70952, 3)\n",
      "(67601, 3)\n",
      "(73966, 3)\n"
     ]
    }
   ],
   "source": [
    "print(data[ data['sentiment'] == 'strongly positive'].shape)\n",
    "print(data[ data['sentiment'] == 'strongly negative'].shape)\n",
    "print(data[ data['sentiment'] == 'loosely positive'].shape)\n",
    "print(data[ data['sentiment'] == 'loosely negative'].shape)\n",
    "    \n",
    "max_fatures = 2000\n",
    "tokenizer = Tokenizer(num_words=max_fatures, split=' ')\n",
    "tokenizer.fit_on_texts(data['text'].values)\n",
    "X = tokenizer.texts_to_sequences(data['text'].values)\n",
    "X = pad_sequences(X)"
   ]
  },
  {
   "cell_type": "code",
   "execution_count": 5,
   "metadata": {
    "scrolled": false
   },
   "outputs": [
    {
     "name": "stdout",
     "output_type": "stream",
     "text": [
      "WARNING:tensorflow:From /var/300GB_DRIVE/ML_Project/ML/lib/python3.6/site-packages/tensorflow/python/framework/op_def_library.py:263: colocate_with (from tensorflow.python.framework.ops) is deprecated and will be removed in a future version.\n",
      "Instructions for updating:\n",
      "Colocations handled automatically by placer.\n",
      "WARNING:tensorflow:From /var/300GB_DRIVE/ML_Project/ML/lib/python3.6/site-packages/keras/backend/tensorflow_backend.py:3445: calling dropout (from tensorflow.python.ops.nn_ops) with keep_prob is deprecated and will be removed in a future version.\n",
      "Instructions for updating:\n",
      "Please use `rate` instead of `keep_prob`. Rate should be set to `rate = 1 - keep_prob`.\n",
      "_________________________________________________________________\n",
      "Layer (type)                 Output Shape              Param #   \n",
      "=================================================================\n",
      "embedding_1 (Embedding)      (None, 54, 128)           256000    \n",
      "_________________________________________________________________\n",
      "spatial_dropout1d_1 (Spatial (None, 54, 128)           0         \n",
      "_________________________________________________________________\n",
      "lstm_1 (LSTM)                (None, 196)               254800    \n",
      "_________________________________________________________________\n",
      "dense_1 (Dense)              (None, 4)                 788       \n",
      "=================================================================\n",
      "Total params: 511,588\n",
      "Trainable params: 511,588\n",
      "Non-trainable params: 0\n",
      "_________________________________________________________________\n",
      "None\n"
     ]
    }
   ],
   "source": [
    "embed_dim = 128\n",
    "lstm_out = 196\n",
    "\n",
    "model = Sequential()\n",
    "model.add(Embedding(max_fatures, embed_dim,input_length = X.shape[1]))\n",
    "model.add(SpatialDropout1D(0.4))\n",
    "model.add(LSTM(lstm_out, dropout=0.2, recurrent_dropout=0.2))\n",
    "model.add(Dense(4,activation='softmax'))\n",
    "model.compile(loss = 'categorical_crossentropy', optimizer='adam',metrics = ['accuracy'])\n",
    "print(model.summary())"
   ]
  },
  {
   "cell_type": "code",
   "execution_count": 6,
   "metadata": {},
   "outputs": [
    {
     "name": "stdout",
     "output_type": "stream",
     "text": [
      "(139382, 54) (139382, 4)\n",
      "(139383, 54) (139383, 4)\n"
     ]
    }
   ],
   "source": [
    "Y = pd.get_dummies(data['sentiment']).values\n",
    "X_train, X_test, Y_train, Y_test = train_test_split(X,Y, test_size = 0.5, random_state = 42)\n",
    "print(X_train.shape,Y_train.shape)\n",
    "print(X_test.shape,Y_test.shape)\n",
    "#print(Y)"
   ]
  },
  {
   "cell_type": "code",
   "execution_count": 7,
   "metadata": {
    "scrolled": false
   },
   "outputs": [
    {
     "name": "stdout",
     "output_type": "stream",
     "text": [
      "WARNING:tensorflow:From /var/300GB_DRIVE/ML_Project/ML/lib/python3.6/site-packages/tensorflow/python/ops/math_ops.py:3066: to_int32 (from tensorflow.python.ops.math_ops) is deprecated and will be removed in a future version.\n",
      "Instructions for updating:\n",
      "Use tf.cast instead.\n",
      "Epoch 1/40\n",
      " - 899s - loss: 0.5898 - acc: 0.7629\n",
      "Epoch 2/40\n",
      " - 854s - loss: 0.4306 - acc: 0.8313\n",
      "Epoch 3/40\n",
      " - 855s - loss: 0.3802 - acc: 0.8534\n",
      "Epoch 4/40\n",
      " - 859s - loss: 0.3516 - acc: 0.8650\n",
      "Epoch 5/40\n",
      " - 855s - loss: 0.3317 - acc: 0.8732\n",
      "Epoch 6/40\n",
      " - 855s - loss: 0.3150 - acc: 0.8802\n",
      "Epoch 7/40\n",
      " - 860s - loss: 0.3024 - acc: 0.8847\n",
      "Epoch 8/40\n",
      " - 856s - loss: 0.2922 - acc: 0.8881\n",
      "Epoch 9/40\n",
      " - 855s - loss: 0.2833 - acc: 0.8927\n",
      "Epoch 10/40\n",
      " - 855s - loss: 0.2737 - acc: 0.8954\n",
      "Epoch 11/40\n",
      " - 856s - loss: 0.2672 - acc: 0.8983\n",
      "Epoch 12/40\n",
      " - 858s - loss: 0.2606 - acc: 0.9009\n",
      "Epoch 13/40\n",
      " - 861s - loss: 0.2579 - acc: 0.9012\n",
      "Epoch 14/40\n",
      " - 858s - loss: 0.2528 - acc: 0.9037\n",
      "Epoch 15/40\n",
      " - 855s - loss: 0.2482 - acc: 0.9056\n",
      "Epoch 16/40\n",
      " - 853s - loss: 0.2443 - acc: 0.9068\n",
      "Epoch 17/40\n",
      " - 855s - loss: 0.2409 - acc: 0.9073\n",
      "Epoch 18/40\n",
      " - 855s - loss: 0.2390 - acc: 0.9089\n",
      "Epoch 19/40\n",
      " - 855s - loss: 0.2379 - acc: 0.9091\n",
      "Epoch 20/40\n",
      " - 855s - loss: 0.2353 - acc: 0.9097\n",
      "Epoch 21/40\n",
      " - 856s - loss: 0.2311 - acc: 0.9123\n",
      "Epoch 22/40\n",
      " - 856s - loss: 0.2312 - acc: 0.9122\n",
      "Epoch 23/40\n",
      " - 855s - loss: 0.2306 - acc: 0.9118\n",
      "Epoch 24/40\n",
      " - 855s - loss: 0.2291 - acc: 0.9127\n",
      "Epoch 25/40\n",
      " - 854s - loss: 0.2279 - acc: 0.9128\n",
      "Epoch 26/40\n",
      " - 854s - loss: 0.2256 - acc: 0.9140\n",
      "Epoch 27/40\n",
      " - 855s - loss: 0.2261 - acc: 0.9143\n",
      "Epoch 28/40\n",
      " - 854s - loss: 0.2245 - acc: 0.9148\n",
      "Epoch 29/40\n",
      " - 853s - loss: 0.2254 - acc: 0.9140\n",
      "Epoch 30/40\n",
      " - 852s - loss: 0.2239 - acc: 0.9140\n",
      "Epoch 31/40\n",
      " - 853s - loss: 0.2231 - acc: 0.9149\n",
      "Epoch 32/40\n",
      " - 853s - loss: 0.2209 - acc: 0.9162\n",
      "Epoch 33/40\n",
      " - 852s - loss: 0.2209 - acc: 0.9151\n",
      "Epoch 34/40\n",
      " - 853s - loss: 0.2204 - acc: 0.9161\n",
      "Epoch 35/40\n",
      " - 854s - loss: 0.2187 - acc: 0.9161\n",
      "Epoch 36/40\n",
      " - 852s - loss: 0.2196 - acc: 0.9161\n",
      "Epoch 37/40\n",
      " - 852s - loss: 0.2177 - acc: 0.9169\n",
      "Epoch 38/40\n",
      " - 852s - loss: 0.2210 - acc: 0.9161\n",
      "Epoch 39/40\n",
      " - 854s - loss: 0.2186 - acc: 0.9166\n",
      "Epoch 40/40\n",
      " - 813s - loss: 0.2181 - acc: 0.9164\n"
     ]
    },
    {
     "data": {
      "text/plain": [
       "<keras.callbacks.History at 0x7f2558364978>"
      ]
     },
     "execution_count": 7,
     "metadata": {},
     "output_type": "execute_result"
    }
   ],
   "source": [
    "batch_size = 32\n",
    "model.fit(X_train, Y_train, epochs = 40, batch_size=batch_size, verbose = 2)"
   ]
  },
  {
   "cell_type": "code",
   "execution_count": 8,
   "metadata": {
    "scrolled": true
   },
   "outputs": [
    {
     "name": "stdout",
     "output_type": "stream",
     "text": [
      "score: 0.37\n",
      "acc: 0.88\n"
     ]
    }
   ],
   "source": [
    "validation_size = 68000\n",
    "\n",
    "X_validate = X_test[-validation_size:]\n",
    "Y_validate = Y_test[-validation_size:]\n",
    "X_test = X_test[:-validation_size]\n",
    "Y_test = Y_test[:-validation_size]\n",
    "score,acc = model.evaluate(X_test, Y_test, verbose = 2, batch_size = batch_size)\n",
    "print(\"score: %.2f\" % (score))\n",
    "print(\"acc: %.2f\" % (acc))"
   ]
  },
  {
   "cell_type": "code",
   "execution_count": 9,
   "metadata": {},
   "outputs": [
    {
     "name": "stdout",
     "output_type": "stream",
     "text": [
      "loosely_pos_acc 86.04124594578056 %\n",
      "loosely_neg_acc 85.43555921956582 %\n",
      "strongly_pos_acc 89.64365256124721 %\n",
      "strongly_neg_acc 90.21965317919076 %\n"
     ]
    }
   ],
   "source": [
    "#Validation\n",
    "loosely_neg_cnt,loosely_pos_cnt,strongly_neg_cnt,strongly_pos_cnt,loosely_neg_correct,loosely_pos_correct,strongly_neg_correct,strongly_pos_correct = 0,0,0,0,0,0,0,0\n",
    "\n",
    "for x in range(len(X_validate)):\n",
    "    \n",
    "    result = model.predict(X_validate[x].reshape(1,X_test.shape[1]),batch_size=1,verbose = 2)[0]\n",
    "   \n",
    "    if np.argmax(result) == np.argmax(Y_validate[x]):\n",
    "        if np.argmax(Y_validate[x]) == 0:\n",
    "            loosely_neg_correct += 1\n",
    "        elif np.argmax(Y_validate[x]) == 1:\n",
    "            loosely_pos_correct += 1\n",
    "        elif np.argmax(Y_validate[x]) == 2:\n",
    "            strongly_neg_correct += 1\n",
    "        elif np.argmax(Y_validate[x]) == 3:\n",
    "            strongly_pos_correct += 1\n",
    "            \n",
    "    if np.argmax(Y_validate[x]) == 0:\n",
    "        loosely_neg_cnt += 1\n",
    "    elif np.argmax(Y_validate[x]) == 1:\n",
    "        loosely_pos_cnt += 1\n",
    "    elif np.argmax(Y_validate[x]) == 2:\n",
    "        strongly_neg_cnt += 1\n",
    "    elif np.argmax(Y_validate[x]) == 3:\n",
    "        strongly_pos_cnt += 1\n",
    "\n",
    "print(\"loosely_pos_acc\", loosely_pos_correct/loosely_pos_cnt*100, \"%\")\n",
    "print(\"loosely_neg_acc\", loosely_neg_correct/loosely_neg_cnt*100, \"%\")\n",
    "print(\"strongly_pos_acc\", strongly_pos_correct/strongly_pos_cnt*100, \"%\")\n",
    "print(\"strongly_neg_acc\", strongly_neg_correct/strongly_neg_cnt*100, \"%\")"
   ]
  },
  {
   "cell_type": "code",
   "execution_count": 18,
   "metadata": {},
   "outputs": [
    {
     "name": "stdout",
     "output_type": "stream",
     "text": [
      "[[   0    0    0    0    0    0    0    0    0    0    0    0    0    0\n",
      "     0    0    0    0    0    0    0    0    0    0    0    0    0    0\n",
      "     0    0    0    0    0    0    0    0    0    0    0    0    0    0\n",
      "     0    0    0    0    0   22    8  596   66 1809   22    8]]\n",
      "[1.6951404e-03 4.0258136e-02 1.8217212e-04 9.5786452e-01]\n",
      "3\n",
      "Strongly Positive\n"
     ]
    }
   ],
   "source": [
    "twt = ['It is amazing how beautifully written it is.']\n",
    "#vectorizing the tweet by the pre-fitted tokenizer instance\n",
    "twt = tokenizer.texts_to_sequences(twt)\n",
    "#padding the tweet to have exactly the same shape as `embedding_2` input\n",
    "twt = pad_sequences(twt, maxlen=54, dtype='int32', value=0)\n",
    "print(twt)\n",
    "sentiment = model.predict(twt,batch_size=1,verbose = 2)[0]\n",
    "print(sentiment)\n",
    "print(np.argmax(sentiment))\n",
    "if np.argmax(sentiment) == 0:\n",
    "    print(\"Loosely Negative\")\n",
    "elif np.argmax(sentiment) == 1:\n",
    "    print(\"Loosely Positive\")\n",
    "elif np.argmax(sentiment) == 2:\n",
    "    print(\"Strongly Negative\")\n",
    "elif np.argmax(sentiment) == 3:\n",
    "    print(\"Strongly Positive\")"
   ]
  },
  {
   "cell_type": "code",
   "execution_count": null,
   "metadata": {},
   "outputs": [],
   "source": []
  }
 ],
 "metadata": {
  "kernelspec": {
   "display_name": "Python 3",
   "language": "python",
   "name": "python3"
  },
  "language_info": {
   "codemirror_mode": {
    "name": "ipython",
    "version": 3
   },
   "file_extension": ".py",
   "mimetype": "text/x-python",
   "name": "python",
   "nbconvert_exporter": "python",
   "pygments_lexer": "ipython3",
   "version": "3.6.7"
  }
 },
 "nbformat": 4,
 "nbformat_minor": 2
}
