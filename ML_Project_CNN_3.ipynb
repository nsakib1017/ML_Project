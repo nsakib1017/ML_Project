{
 "cells": [
  {
   "cell_type": "code",
   "execution_count": 1,
   "metadata": {},
   "outputs": [
    {
     "name": "stderr",
     "output_type": "stream",
     "text": [
      "Using TensorFlow backend.\n"
     ]
    }
   ],
   "source": [
    "import numpy as np\n",
    "import pandas as pd \n",
    "\n",
    "from sklearn.feature_extraction.text import CountVectorizer\n",
    "from keras.preprocessing.text import Tokenizer\n",
    "from keras.regularizers import l1,l2\n",
    "from keras.preprocessing.sequence import pad_sequences\n",
    "from keras.models import Sequential\n",
    "from keras.layers import Dense, Embedding, SpatialDropout1D, Conv1D, MaxPooling1D,Flatten\n",
    "from sklearn.model_selection import train_test_split\n",
    "from keras.utils.np_utils import to_categorical\n",
    "import re"
   ]
  },
  {
   "cell_type": "code",
   "execution_count": 2,
   "metadata": {
    "scrolled": true
   },
   "outputs": [
    {
     "data": {
      "text/html": [
       "<div>\n",
       "<style scoped>\n",
       "    .dataframe tbody tr th:only-of-type {\n",
       "        vertical-align: middle;\n",
       "    }\n",
       "\n",
       "    .dataframe tbody tr th {\n",
       "        vertical-align: top;\n",
       "    }\n",
       "\n",
       "    .dataframe thead th {\n",
       "        text-align: right;\n",
       "    }\n",
       "</style>\n",
       "<table border=\"1\" class=\"dataframe\">\n",
       "  <thead>\n",
       "    <tr style=\"text-align: right;\">\n",
       "      <th></th>\n",
       "      <th>text</th>\n",
       "      <th>sentiment_score</th>\n",
       "      <th>sentiment</th>\n",
       "    </tr>\n",
       "  </thead>\n",
       "  <tbody>\n",
       "    <tr>\n",
       "      <th>0</th>\n",
       "      <td>johnconyersjr  alfranken  why have you guys no...</td>\n",
       "      <td>0.2575</td>\n",
       "      <td>loosely positive</td>\n",
       "    </tr>\n",
       "    <tr>\n",
       "      <th>1</th>\n",
       "      <td>women have been talking about this crap the en...</td>\n",
       "      <td>-0.4588</td>\n",
       "      <td>loosely negative</td>\n",
       "    </tr>\n",
       "    <tr>\n",
       "      <th>2</th>\n",
       "      <td>bettemidler please speak to this sexual assaul...</td>\n",
       "      <td>-0.3612</td>\n",
       "      <td>loosely negative</td>\n",
       "    </tr>\n",
       "    <tr>\n",
       "      <th>3</th>\n",
       "      <td>we cant keep turning a blind eye and pretend t...</td>\n",
       "      <td>0.2163</td>\n",
       "      <td>loosely positive</td>\n",
       "    </tr>\n",
       "    <tr>\n",
       "      <th>4</th>\n",
       "      <td>jayz is saying what ive been saying djts jobis...</td>\n",
       "      <td>-0.6249</td>\n",
       "      <td>strongly negative</td>\n",
       "    </tr>\n",
       "  </tbody>\n",
       "</table>\n",
       "</div>"
      ],
      "text/plain": [
       "                                                text  sentiment_score  \\\n",
       "0  johnconyersjr  alfranken  why have you guys no...           0.2575   \n",
       "1  women have been talking about this crap the en...          -0.4588   \n",
       "2  bettemidler please speak to this sexual assaul...          -0.3612   \n",
       "3  we cant keep turning a blind eye and pretend t...           0.2163   \n",
       "4  jayz is saying what ive been saying djts jobis...          -0.6249   \n",
       "\n",
       "           sentiment  \n",
       "0   loosely positive  \n",
       "1   loosely negative  \n",
       "2   loosely negative  \n",
       "3   loosely positive  \n",
       "4  strongly negative  "
      ]
     },
     "execution_count": 2,
     "metadata": {},
     "output_type": "execute_result"
    }
   ],
   "source": [
    "data = pd.read_csv('data.csv')\n",
    "data.head()"
   ]
  },
  {
   "cell_type": "code",
   "execution_count": 3,
   "metadata": {},
   "outputs": [
    {
     "name": "stdout",
     "output_type": "stream",
     "text": [
      "(66246, 3)\n",
      "(70952, 3)\n",
      "(67601, 3)\n",
      "(73966, 3)\n"
     ]
    }
   ],
   "source": [
    "print(data[ data['sentiment'] == 'strongly positive'].shape)\n",
    "print(data[ data['sentiment'] == 'strongly negative'].shape)\n",
    "print(data[ data['sentiment'] == 'loosely positive'].shape)\n",
    "print(data[ data['sentiment'] == 'loosely negative'].shape)\n",
    "    \n",
    "max_fatures = 2000\n",
    "tokenizer = Tokenizer(num_words=max_fatures, split=' ')\n",
    "tokenizer.fit_on_texts(data['text'].values)\n",
    "X = tokenizer.texts_to_sequences(data['text'].values)\n",
    "X = pad_sequences(X)"
   ]
  },
  {
   "cell_type": "code",
   "execution_count": 4,
   "metadata": {
    "scrolled": false
   },
   "outputs": [
    {
     "name": "stdout",
     "output_type": "stream",
     "text": [
      "WARNING:tensorflow:From /var/300GB_DRIVE/ML_Project/ML/lib/python3.6/site-packages/tensorflow/python/framework/op_def_library.py:263: colocate_with (from tensorflow.python.framework.ops) is deprecated and will be removed in a future version.\n",
      "Instructions for updating:\n",
      "Colocations handled automatically by placer.\n",
      "WARNING:tensorflow:From /var/300GB_DRIVE/ML_Project/ML/lib/python3.6/site-packages/keras/backend/tensorflow_backend.py:3445: calling dropout (from tensorflow.python.ops.nn_ops) with keep_prob is deprecated and will be removed in a future version.\n",
      "Instructions for updating:\n",
      "Please use `rate` instead of `keep_prob`. Rate should be set to `rate = 1 - keep_prob`.\n",
      "_________________________________________________________________\n",
      "Layer (type)                 Output Shape              Param #   \n",
      "=================================================================\n",
      "embedding_1 (Embedding)      (None, 54, 128)           256000    \n",
      "_________________________________________________________________\n",
      "spatial_dropout1d_1 (Spatial (None, 54, 128)           0         \n",
      "_________________________________________________________________\n",
      "conv1d_1 (Conv1D)            (None, 54, 32)            20512     \n",
      "_________________________________________________________________\n",
      "max_pooling1d_1 (MaxPooling1 (None, 27, 32)            0         \n",
      "_________________________________________________________________\n",
      "conv1d_2 (Conv1D)            (None, 27, 64)            10304     \n",
      "_________________________________________________________________\n",
      "max_pooling1d_2 (MaxPooling1 (None, 13, 64)            0         \n",
      "_________________________________________________________________\n",
      "conv1d_3 (Conv1D)            (None, 13, 128)           41088     \n",
      "_________________________________________________________________\n",
      "max_pooling1d_3 (MaxPooling1 (None, 12, 128)           0         \n",
      "_________________________________________________________________\n",
      "flatten_1 (Flatten)          (None, 1536)              0         \n",
      "_________________________________________________________________\n",
      "dense_1 (Dense)              (None, 1000)              1537000   \n",
      "_________________________________________________________________\n",
      "dense_2 (Dense)              (None, 4)                 4004      \n",
      "=================================================================\n",
      "Total params: 1,868,908\n",
      "Trainable params: 1,868,908\n",
      "Non-trainable params: 0\n",
      "_________________________________________________________________\n",
      "None\n"
     ]
    },
    {
     "name": "stderr",
     "output_type": "stream",
     "text": [
      "/var/300GB_DRIVE/ML_Project/ML/lib/python3.6/site-packages/ipykernel_launcher.py:9: UserWarning: Update your `MaxPooling1D` call to the Keras 2 API: `MaxPooling1D(pool_size=2, strides=2)`\n",
      "  if __name__ == '__main__':\n",
      "/var/300GB_DRIVE/ML_Project/ML/lib/python3.6/site-packages/ipykernel_launcher.py:11: UserWarning: Update your `MaxPooling1D` call to the Keras 2 API: `MaxPooling1D(pool_size=2, strides=1)`\n",
      "  # This is added back by InteractiveShellApp.init_path()\n"
     ]
    }
   ],
   "source": [
    "embed_dim = 128\n",
    "\n",
    "model = Sequential()\n",
    "model.add(Embedding(max_fatures, embed_dim,input_length = X.shape[1]))\n",
    "model.add(SpatialDropout1D(0.4))\n",
    "model.add(Conv1D(32, kernel_size=5, activation='relu',padding='same',bias_regularizer=l2(0.1)))\n",
    "model.add(MaxPooling1D(pool_size=2, strides=2))\n",
    "model.add(Conv1D(64, 5, activation='relu', padding='same', bias_regularizer=l2(0.1)))\n",
    "model.add(MaxPooling1D(pool_size=2,stride=2))\n",
    "model.add(Conv1D(128, 5, activation='relu', padding='same', bias_regularizer=l2(0.1)))\n",
    "model.add(MaxPooling1D(pool_size=2,stride=1))\n",
    "model.add(Flatten())\n",
    "model.add(Dense(1000, activation='relu',bias_regularizer=l2(0.1)))\n",
    "model.add(Dense(4, activation='softmax'))\n",
    "model.compile(loss = 'categorical_crossentropy', optimizer='adam',metrics = ['accuracy'])\n",
    "print(model.summary())"
   ]
  },
  {
   "cell_type": "code",
   "execution_count": 5,
   "metadata": {},
   "outputs": [
    {
     "name": "stdout",
     "output_type": "stream",
     "text": [
      "(139382, 54) (139382, 4)\n",
      "(139383, 54) (139383, 4)\n"
     ]
    }
   ],
   "source": [
    "Y = pd.get_dummies(data['sentiment']).values\n",
    "X_train, X_test, Y_train, Y_test = train_test_split(X,Y, test_size = 0.5, random_state = 100)\n",
    "print(X_train.shape,Y_train.shape)\n",
    "print(X_test.shape,Y_test.shape)\n",
    "#print(Y)"
   ]
  },
  {
   "cell_type": "code",
   "execution_count": 6,
   "metadata": {
    "scrolled": false
   },
   "outputs": [
    {
     "name": "stdout",
     "output_type": "stream",
     "text": [
      "WARNING:tensorflow:From /var/300GB_DRIVE/ML_Project/ML/lib/python3.6/site-packages/tensorflow/python/ops/math_ops.py:3066: to_int32 (from tensorflow.python.ops.math_ops) is deprecated and will be removed in a future version.\n",
      "Instructions for updating:\n",
      "Use tf.cast instead.\n",
      "Epoch 1/40\n",
      " - 149s - loss: 0.5469 - acc: 0.7765\n",
      "Epoch 2/40\n",
      " - 145s - loss: 0.4092 - acc: 0.8386\n",
      "Epoch 3/40\n",
      " - 145s - loss: 0.3682 - acc: 0.8561\n",
      "Epoch 4/40\n",
      " - 143s - loss: 0.3445 - acc: 0.8670\n",
      "Epoch 5/40\n",
      " - 143s - loss: 0.3280 - acc: 0.8725\n",
      "Epoch 6/40\n",
      " - 143s - loss: 0.3128 - acc: 0.8794\n",
      "Epoch 7/40\n",
      " - 143s - loss: 0.3009 - acc: 0.8828\n",
      "Epoch 8/40\n",
      " - 143s - loss: 0.2914 - acc: 0.8872\n",
      "Epoch 9/40\n",
      " - 142s - loss: 0.2845 - acc: 0.8896\n",
      "Epoch 10/40\n",
      " - 142s - loss: 0.2769 - acc: 0.8934\n",
      "Epoch 11/40\n",
      " - 143s - loss: 0.2690 - acc: 0.8965\n",
      "Epoch 12/40\n",
      " - 143s - loss: 0.2650 - acc: 0.8983\n",
      "Epoch 13/40\n",
      " - 142s - loss: 0.2584 - acc: 0.9007\n",
      "Epoch 14/40\n",
      " - 142s - loss: 0.2546 - acc: 0.9014\n",
      "Epoch 15/40\n",
      " - 142s - loss: 0.2491 - acc: 0.9039\n",
      "Epoch 16/40\n",
      " - 144s - loss: 0.2453 - acc: 0.9069\n",
      "Epoch 17/40\n",
      " - 147s - loss: 0.2425 - acc: 0.9073\n",
      "Epoch 18/40\n",
      " - 145s - loss: 0.2377 - acc: 0.9089\n",
      "Epoch 19/40\n",
      " - 144s - loss: 0.2366 - acc: 0.9097\n",
      "Epoch 20/40\n",
      " - 143s - loss: 0.2312 - acc: 0.9116\n",
      "Epoch 21/40\n",
      " - 143s - loss: 0.2307 - acc: 0.9123\n",
      "Epoch 22/40\n",
      " - 143s - loss: 0.2254 - acc: 0.9135\n",
      "Epoch 23/40\n",
      " - 143s - loss: 0.2240 - acc: 0.9144\n",
      "Epoch 24/40\n",
      " - 143s - loss: 0.2216 - acc: 0.9153\n",
      "Epoch 25/40\n",
      " - 143s - loss: 0.2210 - acc: 0.9161\n",
      "Epoch 26/40\n",
      " - 143s - loss: 0.2179 - acc: 0.9173\n",
      "Epoch 27/40\n",
      " - 143s - loss: 0.2156 - acc: 0.9187\n",
      "Epoch 28/40\n",
      " - 143s - loss: 0.2146 - acc: 0.9182\n",
      "Epoch 29/40\n",
      " - 143s - loss: 0.2113 - acc: 0.9193\n",
      "Epoch 30/40\n",
      " - 145s - loss: 0.2079 - acc: 0.9211\n",
      "Epoch 31/40\n",
      " - 143s - loss: 0.2089 - acc: 0.9208\n",
      "Epoch 32/40\n",
      " - 143s - loss: 0.2068 - acc: 0.9213\n",
      "Epoch 33/40\n",
      " - 143s - loss: 0.2051 - acc: 0.9225\n",
      "Epoch 34/40\n",
      " - 143s - loss: 0.2035 - acc: 0.9230\n",
      "Epoch 35/40\n",
      " - 143s - loss: 0.2011 - acc: 0.9240\n",
      "Epoch 36/40\n",
      " - 143s - loss: 0.2048 - acc: 0.9224\n",
      "Epoch 37/40\n",
      " - 143s - loss: 0.2004 - acc: 0.9243\n",
      "Epoch 38/40\n",
      " - 143s - loss: 0.1993 - acc: 0.9248\n",
      "Epoch 39/40\n",
      " - 143s - loss: 0.1961 - acc: 0.9264\n",
      "Epoch 40/40\n",
      " - 143s - loss: 0.1978 - acc: 0.9255\n"
     ]
    },
    {
     "data": {
      "text/plain": [
       "<keras.callbacks.History at 0x7f750603ecc0>"
      ]
     },
     "execution_count": 6,
     "metadata": {},
     "output_type": "execute_result"
    }
   ],
   "source": [
    "batch_size = 32\n",
    "model.fit(X_train, Y_train, epochs = 40, batch_size=batch_size, verbose = 2)"
   ]
  },
  {
   "cell_type": "code",
   "execution_count": 7,
   "metadata": {
    "scrolled": true
   },
   "outputs": [
    {
     "name": "stdout",
     "output_type": "stream",
     "text": [
      "score: 0.48\n",
      "acc: 0.86\n"
     ]
    }
   ],
   "source": [
    "validation_size = 68000\n",
    "\n",
    "X_validate = X_test[-validation_size:]\n",
    "Y_validate = Y_test[-validation_size:]\n",
    "X_test = X_test[:-validation_size]\n",
    "Y_test = Y_test[:-validation_size]\n",
    "score,acc = model.evaluate(X_test, Y_test, verbose = 2, batch_size = batch_size)\n",
    "print(\"score: %.2f\" % (score))\n",
    "print(\"acc: %.2f\" % (acc))"
   ]
  },
  {
   "cell_type": "code",
   "execution_count": 8,
   "metadata": {},
   "outputs": [
    {
     "name": "stdout",
     "output_type": "stream",
     "text": [
      "loosely_pos_acc 78.92033991563245 %\n",
      "loosely_neg_acc 83.87472930201567 %\n",
      "strongly_pos_acc 90.73648942110815 %\n",
      "strongly_neg_acc 92.49871553348176 %\n"
     ]
    }
   ],
   "source": [
    "#Validation\n",
    "loosely_neg_cnt,loosely_pos_cnt,strongly_neg_cnt,strongly_pos_cnt,loosely_neg_correct,loosely_pos_correct,strongly_neg_correct,strongly_pos_correct = 0,0,0,0,0,0,0,0\n",
    "\n",
    "for x in range(len(X_validate)):\n",
    "    \n",
    "    result = model.predict(X_validate[x].reshape(1,X_test.shape[1]),batch_size=1,verbose = 2)[0]\n",
    "   \n",
    "    if np.argmax(result) == np.argmax(Y_validate[x]):\n",
    "        if np.argmax(Y_validate[x]) == 0:\n",
    "            loosely_neg_correct += 1\n",
    "        elif np.argmax(Y_validate[x]) == 1:\n",
    "            loosely_pos_correct += 1\n",
    "        elif np.argmax(Y_validate[x]) == 2:\n",
    "            strongly_neg_correct += 1\n",
    "        elif np.argmax(Y_validate[x]) == 3:\n",
    "            strongly_pos_correct += 1\n",
    "            \n",
    "    if np.argmax(Y_validate[x]) == 0:\n",
    "        loosely_neg_cnt += 1\n",
    "    elif np.argmax(Y_validate[x]) == 1:\n",
    "        loosely_pos_cnt += 1\n",
    "    elif np.argmax(Y_validate[x]) == 2:\n",
    "        strongly_neg_cnt += 1\n",
    "    elif np.argmax(Y_validate[x]) == 3:\n",
    "        strongly_pos_cnt += 1\n",
    "\n",
    "print(\"loosely_pos_acc\", loosely_pos_correct/loosely_pos_cnt*100, \"%\")\n",
    "print(\"loosely_neg_acc\", loosely_neg_correct/loosely_neg_cnt*100, \"%\")\n",
    "print(\"strongly_pos_acc\", strongly_pos_correct/strongly_pos_cnt*100, \"%\")\n",
    "print(\"strongly_neg_acc\", strongly_neg_correct/strongly_neg_cnt*100, \"%\")"
   ]
  },
  {
   "cell_type": "code",
   "execution_count": 1,
   "metadata": {
    "collapsed": true
   },
   "outputs": [
    {
     "ename": "NameError",
     "evalue": "name 'tokenizer' is not defined",
     "output_type": "error",
     "traceback": [
      "\u001b[0;31m---------------------------------------------------------------------------\u001b[0m",
      "\u001b[0;31mNameError\u001b[0m                                 Traceback (most recent call last)",
      "\u001b[0;32m<ipython-input-1-ab4e20e1768d>\u001b[0m in \u001b[0;36m<module>\u001b[0;34m\u001b[0m\n\u001b[1;32m      1\u001b[0m \u001b[0mtwt\u001b[0m \u001b[0;34m=\u001b[0m \u001b[0;34m[\u001b[0m\u001b[0;34m'Hate will get you nowhere.'\u001b[0m\u001b[0;34m]\u001b[0m\u001b[0;34m\u001b[0m\u001b[0;34m\u001b[0m\u001b[0m\n\u001b[1;32m      2\u001b[0m \u001b[0;31m#vectorizing the tweet by the pre-fitted tokenizer instance\u001b[0m\u001b[0;34m\u001b[0m\u001b[0;34m\u001b[0m\u001b[0;34m\u001b[0m\u001b[0m\n\u001b[0;32m----> 3\u001b[0;31m \u001b[0mtwt\u001b[0m \u001b[0;34m=\u001b[0m \u001b[0mtokenizer\u001b[0m\u001b[0;34m.\u001b[0m\u001b[0mtexts_to_sequences\u001b[0m\u001b[0;34m(\u001b[0m\u001b[0mtwt\u001b[0m\u001b[0;34m)\u001b[0m\u001b[0;34m\u001b[0m\u001b[0;34m\u001b[0m\u001b[0m\n\u001b[0m\u001b[1;32m      4\u001b[0m \u001b[0;31m#padding the tweet to have exactly the same shape as `embedding_2` input\u001b[0m\u001b[0;34m\u001b[0m\u001b[0;34m\u001b[0m\u001b[0;34m\u001b[0m\u001b[0m\n\u001b[1;32m      5\u001b[0m \u001b[0mtwt\u001b[0m \u001b[0;34m=\u001b[0m \u001b[0mpad_sequences\u001b[0m\u001b[0;34m(\u001b[0m\u001b[0mtwt\u001b[0m\u001b[0;34m,\u001b[0m \u001b[0mmaxlen\u001b[0m\u001b[0;34m=\u001b[0m\u001b[0;36m54\u001b[0m\u001b[0;34m,\u001b[0m \u001b[0mdtype\u001b[0m\u001b[0;34m=\u001b[0m\u001b[0;34m'int32'\u001b[0m\u001b[0;34m,\u001b[0m \u001b[0mvalue\u001b[0m\u001b[0;34m=\u001b[0m\u001b[0;36m0\u001b[0m\u001b[0;34m)\u001b[0m\u001b[0;34m\u001b[0m\u001b[0;34m\u001b[0m\u001b[0m\n",
      "\u001b[0;31mNameError\u001b[0m: name 'tokenizer' is not defined"
     ]
    }
   ],
   "source": [
    "twt = ['Meetings: Because none of us is as dumb as all of us.']\n",
    "#vectorizing the tweet by the pre-fitted tokenizer instance\n",
    "twt = tokenizer.texts_to_sequences(twt)\n",
    "#padding the tweet to have exactly the same shape as `embedding_2` input\n",
    "twt = pad_sequences(twt, maxlen=54, dtype='int32', value=0)\n",
    "print(twt)\n",
    "sentiment = model.predict(twt,batch_size=1,verbose = 2)[0]\n",
    "sentiment\n",
    "if np.argmax(sentiment) == 0:\n",
    "    print(\"Loosely Negative\")\n",
    "elif np.argmax(sentiment) == 1:\n",
    "    print(\"Loosely Positive\")\n",
    "elif np.argmax(sentiment) == 2:\n",
    "    print(\"Strongly Negative\")\n",
    "elif np.argmax(sentiment) == 3:\n",
    "    print(\"Strongly Positive\")"
   ]
  },
  {
   "cell_type": "code",
   "execution_count": null,
   "metadata": {},
   "outputs": [],
   "source": []
  }
 ],
 "metadata": {
  "kernelspec": {
   "display_name": "Python 3",
   "language": "python",
   "name": "python3"
  },
  "language_info": {
   "codemirror_mode": {
    "name": "ipython",
    "version": 3
   },
   "file_extension": ".py",
   "mimetype": "text/x-python",
   "name": "python",
   "nbconvert_exporter": "python",
   "pygments_lexer": "ipython3",
   "version": "3.6.7"
  }
 },
 "nbformat": 4,
 "nbformat_minor": 2
}
