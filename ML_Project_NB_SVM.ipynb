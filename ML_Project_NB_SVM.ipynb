{
 "cells": [
  {
   "cell_type": "code",
   "execution_count": 1,
   "metadata": {},
   "outputs": [
    {
     "name": "stderr",
     "output_type": "stream",
     "text": [
      "Using TensorFlow backend.\n"
     ]
    }
   ],
   "source": [
    "# This Python 3 environment comes with many helpful analytics libraries installed\n",
    "# It is defined by the kaggle/python docker image: https://github.com/kaggle/docker-python\n",
    "# For example, here's several helpful packages to load in \n",
    "\n",
    "import numpy as np # linear algebra\n",
    "import pandas as pd # data processing, CSV file I/O (e.g. pd.read_csv)\n",
    "\n",
    "from sklearn.feature_extraction.text import CountVectorizer\n",
    "from keras.preprocessing.text import Tokenizer\n",
    "from keras.preprocessing.sequence import pad_sequences\n",
    "from keras.models import Sequential\n",
    "from keras.layers import Dense, Embedding, LSTM, SpatialDropout1D\n",
    "from sklearn.model_selection import train_test_split\n",
    "from keras.utils.np_utils import to_categorical\n",
    "import re\n",
    "\n",
    "# Input data files are available in the \"../input/\" directory.\n",
    "# For example, running this (by clicking run or pressing Shift+Enter) will list the files in the input directory"
   ]
  },
  {
   "cell_type": "code",
   "execution_count": 2,
   "metadata": {},
   "outputs": [
    {
     "data": {
      "text/html": [
       "<div>\n",
       "<style scoped>\n",
       "    .dataframe tbody tr th:only-of-type {\n",
       "        vertical-align: middle;\n",
       "    }\n",
       "\n",
       "    .dataframe tbody tr th {\n",
       "        vertical-align: top;\n",
       "    }\n",
       "\n",
       "    .dataframe thead th {\n",
       "        text-align: right;\n",
       "    }\n",
       "</style>\n",
       "<table border=\"1\" class=\"dataframe\">\n",
       "  <thead>\n",
       "    <tr style=\"text-align: right;\">\n",
       "      <th></th>\n",
       "      <th>tweetId</th>\n",
       "      <th>screenName</th>\n",
       "      <th>text</th>\n",
       "      <th>replyToSN</th>\n",
       "      <th>truncated</th>\n",
       "      <th>isRetweet</th>\n",
       "      <th>retweetCount</th>\n",
       "      <th>favoriteCount</th>\n",
       "      <th>created</th>\n",
       "      <th>latitude</th>\n",
       "      <th>longitude</th>\n",
       "      <th>sentiment_score</th>\n",
       "      <th>sentiment</th>\n",
       "    </tr>\n",
       "  </thead>\n",
       "  <tbody>\n",
       "    <tr>\n",
       "      <th>0</th>\n",
       "      <td>1</td>\n",
       "      <td>ahmediaTV</td>\n",
       "      <td>American Harem.. #MeToo https://t.co/HjExLJdGuF</td>\n",
       "      <td>NaN</td>\n",
       "      <td>0</td>\n",
       "      <td>0</td>\n",
       "      <td>0</td>\n",
       "      <td>0</td>\n",
       "      <td>2017-11-29 23:59:00</td>\n",
       "      <td>NaN</td>\n",
       "      <td>NaN</td>\n",
       "      <td>0.0000</td>\n",
       "      <td>neutral</td>\n",
       "    </tr>\n",
       "    <tr>\n",
       "      <th>1</th>\n",
       "      <td>2</td>\n",
       "      <td>JesusPrepper74</td>\n",
       "      <td>@johnconyersjr  @alfranken  why have you guys ...</td>\n",
       "      <td>johnconyersjr</td>\n",
       "      <td>0</td>\n",
       "      <td>0</td>\n",
       "      <td>0</td>\n",
       "      <td>0</td>\n",
       "      <td>2017-11-29 23:59:00</td>\n",
       "      <td>NaN</td>\n",
       "      <td>NaN</td>\n",
       "      <td>0.2575</td>\n",
       "      <td>positive</td>\n",
       "    </tr>\n",
       "    <tr>\n",
       "      <th>2</th>\n",
       "      <td>3</td>\n",
       "      <td>DemerisePotvin</td>\n",
       "      <td>Watched Megan Kelly ask Joe Keery this A.M. if...</td>\n",
       "      <td>NaN</td>\n",
       "      <td>1</td>\n",
       "      <td>0</td>\n",
       "      <td>0</td>\n",
       "      <td>0</td>\n",
       "      <td>2017-11-29 23:59:00</td>\n",
       "      <td>NaN</td>\n",
       "      <td>NaN</td>\n",
       "      <td>0.0000</td>\n",
       "      <td>neutral</td>\n",
       "    </tr>\n",
       "    <tr>\n",
       "      <th>3</th>\n",
       "      <td>4</td>\n",
       "      <td>TheDawnStott</td>\n",
       "      <td>Women have been talking about this crap the en...</td>\n",
       "      <td>NaN</td>\n",
       "      <td>0</td>\n",
       "      <td>0</td>\n",
       "      <td>0</td>\n",
       "      <td>0</td>\n",
       "      <td>2017-11-29 23:59:00</td>\n",
       "      <td>NaN</td>\n",
       "      <td>NaN</td>\n",
       "      <td>-0.4588</td>\n",
       "      <td>negative</td>\n",
       "    </tr>\n",
       "    <tr>\n",
       "      <th>4</th>\n",
       "      <td>5</td>\n",
       "      <td>scottygirl2014</td>\n",
       "      <td>.@BetteMidler please speak to this sexual assa...</td>\n",
       "      <td>NaN</td>\n",
       "      <td>0</td>\n",
       "      <td>0</td>\n",
       "      <td>11</td>\n",
       "      <td>15</td>\n",
       "      <td>2017-11-29 23:59:00</td>\n",
       "      <td>NaN</td>\n",
       "      <td>NaN</td>\n",
       "      <td>-0.3612</td>\n",
       "      <td>negative</td>\n",
       "    </tr>\n",
       "  </tbody>\n",
       "</table>\n",
       "</div>"
      ],
      "text/plain": [
       "   tweetId      screenName                                               text  \\\n",
       "0        1       ahmediaTV    American Harem.. #MeToo https://t.co/HjExLJdGuF   \n",
       "1        2  JesusPrepper74  @johnconyersjr  @alfranken  why have you guys ...   \n",
       "2        3  DemerisePotvin  Watched Megan Kelly ask Joe Keery this A.M. if...   \n",
       "3        4    TheDawnStott  Women have been talking about this crap the en...   \n",
       "4        5  scottygirl2014  .@BetteMidler please speak to this sexual assa...   \n",
       "\n",
       "       replyToSN  truncated  isRetweet  retweetCount  favoriteCount  \\\n",
       "0            NaN          0          0             0              0   \n",
       "1  johnconyersjr          0          0             0              0   \n",
       "2            NaN          1          0             0              0   \n",
       "3            NaN          0          0             0              0   \n",
       "4            NaN          0          0            11             15   \n",
       "\n",
       "               created  latitude  longitude  sentiment_score sentiment  \n",
       "0  2017-11-29 23:59:00       NaN        NaN           0.0000   neutral  \n",
       "1  2017-11-29 23:59:00       NaN        NaN           0.2575  positive  \n",
       "2  2017-11-29 23:59:00       NaN        NaN           0.0000   neutral  \n",
       "3  2017-11-29 23:59:00       NaN        NaN          -0.4588  negative  \n",
       "4  2017-11-29 23:59:00       NaN        NaN          -0.3612  negative  "
      ]
     },
     "execution_count": 2,
     "metadata": {},
     "output_type": "execute_result"
    }
   ],
   "source": [
    "df=pd.read_csv('asd.csv')\n",
    "df.head()"
   ]
  },
  {
   "cell_type": "code",
   "execution_count": 3,
   "metadata": {
    "scrolled": false
   },
   "outputs": [
    {
     "name": "stdout",
     "output_type": "stream",
     "text": [
      "                                                text sentiment\n",
      "1  johnconyersjr  alfranken  why have you guys no...  positive\n",
      "3  women have been talking about this crap the en...  negative\n",
      "4  bettemidler please speak to this sexual assaul...  negative\n",
      "5  we cant keep turning a blind eye and pretend t...  positive\n",
      "6  jayz is saying what ive been saying djts jobis...  negative\n"
     ]
    }
   ],
   "source": [
    "#create clean DataFrame\n",
    "col = ['text', 'sentiment']\n",
    "df = df[col]\n",
    "df=df[df['sentiment'] != 'neutral']\n",
    "df['text'] = df['text'].apply(lambda x: x.lower())\n",
    "df['text'] = df['text'].apply((lambda x: re.sub('[^a-zA-z0-9\\s]','',x)))\n",
    "#df = df[pd.notnull(df['post'])]\n",
    "#df.columns = ['tags', 'post']\n",
    "\n",
    "\n",
    "#tail is another alternative\n",
    "print(df.head())\n",
    "\n",
    "#further explanation:\n",
    "#df['post']\n",
    "#df['tags']"
   ]
  },
  {
   "cell_type": "code",
   "execution_count": 9,
   "metadata": {},
   "outputs": [],
   "source": [
    "#Step 2 : Feature Extraction. Also known as vectorizing data. Basically digitalizing it in meaningful ways.\n",
    "from sklearn import model_selection, preprocessing\n",
    "from sklearn.model_selection import train_test_split\n",
    "from sklearn.feature_extraction.text import TfidfVectorizer\n",
    "from sklearn.feature_extraction.text import CountVectorizer\n",
    "\n",
    "#everything needs to be digitalized. Labels and Texts.\n",
    "\n",
    "#labels digitalized here in Y axis\n",
    "encoder = preprocessing.LabelEncoder()\n",
    "y = encoder.fit_transform(df['sentiment'])\n",
    "\n",
    "\n",
    "#Posts digitalized here in x-axis\n",
    "countvec = CountVectorizer();\n",
    "X_data_full_tfidf = countvec.fit_transform(df['text'])\n",
    "# tfidf = TfidfVectorizer(sublinear_tf=True, min_df=5, norm='l2', encoding='latin-1')\n",
    "# tfidf = TfidfVectorizer(sublinear_tf=True, min_df=5, norm='l2', encoding='latin-1', ngram_range=(1,2))\n",
    "# X_data_full_tfidf = tfidf.fit_transform(df['post'])\n",
    "\n",
    "\n",
    "X_train, X_test, y_train, y_test = train_test_split(X_data_full_tfidf, y, test_size=0.33 , random_state = 52)"
   ]
  },
  {
   "cell_type": "code",
   "execution_count": 11,
   "metadata": {
    "scrolled": true
   },
   "outputs": [
    {
     "name": "stdout",
     "output_type": "stream",
     "text": [
      "naive bayes accuracy is\n",
      "0.9012207450566891\n",
      "Support Vector with Linear Kernel Accuracy is:\n",
      "0.957257617427413\n"
     ]
    }
   ],
   "source": [
    "#Step 3: train classifier\n",
    "\n",
    "#with a naive bayes\n",
    "from sklearn.naive_bayes import MultinomialNB\n",
    "from sklearn.svm import SVC\n",
    "\n",
    "\n",
    "clf = MultinomialNB().fit(X_train, y_train)\n",
    "print(\"naive bayes accuracy is\")\n",
    "\n",
    "#step 4: evaluate classifier\n",
    "\n",
    "print(clf.score(X_test, y_test))\n",
    "\n",
    "#with a support vector machine\n",
    "clf = SVC(kernel='linear')\n",
    "clf.fit(X_train, y_train)\n",
    "print(\"Support Vector with Linear Kernel Accuracy is:\")\n",
    "print(clf.score(X_test, y_test))"
   ]
  },
  {
   "cell_type": "code",
   "execution_count": null,
   "metadata": {},
   "outputs": [],
   "source": []
  }
 ],
 "metadata": {
  "kernelspec": {
   "display_name": "Python 3",
   "language": "python",
   "name": "python3"
  },
  "language_info": {
   "codemirror_mode": {
    "name": "ipython",
    "version": 3
   },
   "file_extension": ".py",
   "mimetype": "text/x-python",
   "name": "python",
   "nbconvert_exporter": "python",
   "pygments_lexer": "ipython3",
   "version": "3.6.7"
  }
 },
 "nbformat": 4,
 "nbformat_minor": 2
}
