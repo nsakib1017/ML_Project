{
 "cells": [
  {
   "cell_type": "code",
   "execution_count": 1,
   "metadata": {},
   "outputs": [
    {
     "name": "stderr",
     "output_type": "stream",
     "text": [
      "Using TensorFlow backend.\n"
     ]
    }
   ],
   "source": [
    "import numpy as np # linear algebra\n",
    "import pandas as pd # data processing, CSV file I/O (e.g. pd.read_csv)\n",
    "\n",
    "from sklearn.feature_extraction.text import CountVectorizer\n",
    "from keras.preprocessing.text import Tokenizer\n",
    "from keras.preprocessing.sequence import pad_sequences\n",
    "from keras.models import Sequential\n",
    "from keras.layers import Dense, Embedding, LSTM, SpatialDropout1D\n",
    "from sklearn.model_selection import train_test_split\n",
    "from keras.utils.np_utils import to_categorical\n",
    "import re"
   ]
  },
  {
   "cell_type": "code",
   "execution_count": 2,
   "metadata": {},
   "outputs": [],
   "source": [
    "data = pd.read_csv('asd.csv')\n",
    "# Keeping only the neccessary columns\n",
    "data = data[['text','sentiment']]"
   ]
  },
  {
   "cell_type": "code",
   "execution_count": 3,
   "metadata": {},
   "outputs": [
    {
     "name": "stdout",
     "output_type": "stream",
     "text": [
      "267694\n",
      "289836\n"
     ]
    }
   ],
   "source": [
    "data = data[data.sentiment != \"neutral\"]\n",
    "data['text'] = data['text'].apply(lambda x: x.lower())\n",
    "data['text'] = data['text'].apply((lambda x: re.sub('[^a-zA-z0-9\\s]','',x)))\n",
    "\n",
    "print(data[ data['sentiment'] == 'positive'].size)\n",
    "print(data[ data['sentiment'] == 'negative'].size)\n",
    "\n",
    "    \n",
    "max_fatures = 2000\n",
    "tokenizer = Tokenizer(num_words=max_fatures, split=' ')\n",
    "tokenizer.fit_on_texts(data['text'].values)\n",
    "X = tokenizer.texts_to_sequences(data['text'].values)\n",
    "X = pad_sequences(X)"
   ]
  },
  {
   "cell_type": "code",
   "execution_count": 4,
   "metadata": {},
   "outputs": [
    {
     "name": "stdout",
     "output_type": "stream",
     "text": [
      "WARNING:tensorflow:From /var/300GB_DRIVE/ML_Project/ML/lib/python3.6/site-packages/tensorflow/python/framework/op_def_library.py:263: colocate_with (from tensorflow.python.framework.ops) is deprecated and will be removed in a future version.\n",
      "Instructions for updating:\n",
      "Colocations handled automatically by placer.\n",
      "WARNING:tensorflow:From /var/300GB_DRIVE/ML_Project/ML/lib/python3.6/site-packages/keras/backend/tensorflow_backend.py:3445: calling dropout (from tensorflow.python.ops.nn_ops) with keep_prob is deprecated and will be removed in a future version.\n",
      "Instructions for updating:\n",
      "Please use `rate` instead of `keep_prob`. Rate should be set to `rate = 1 - keep_prob`.\n",
      "_________________________________________________________________\n",
      "Layer (type)                 Output Shape              Param #   \n",
      "=================================================================\n",
      "embedding_1 (Embedding)      (None, 54, 128)           256000    \n",
      "_________________________________________________________________\n",
      "spatial_dropout1d_1 (Spatial (None, 54, 128)           0         \n",
      "_________________________________________________________________\n",
      "lstm_1 (LSTM)                (None, 196)               254800    \n",
      "_________________________________________________________________\n",
      "dense_1 (Dense)              (None, 2)                 394       \n",
      "=================================================================\n",
      "Total params: 511,194\n",
      "Trainable params: 511,194\n",
      "Non-trainable params: 0\n",
      "_________________________________________________________________\n",
      "None\n"
     ]
    }
   ],
   "source": [
    "embed_dim = 128\n",
    "lstm_out = 196\n",
    "\n",
    "model = Sequential()\n",
    "model.add(Embedding(max_fatures, embed_dim,input_length = X.shape[1]))\n",
    "model.add(SpatialDropout1D(0.4))\n",
    "model.add(LSTM(lstm_out, dropout=0.2, recurrent_dropout=0.2))\n",
    "model.add(Dense(2,activation='softmax'))\n",
    "model.compile(loss = 'categorical_crossentropy', optimizer='adam',metrics = ['accuracy'])\n",
    "print(model.summary())"
   ]
  },
  {
   "cell_type": "code",
   "execution_count": 5,
   "metadata": {},
   "outputs": [
    {
     "name": "stdout",
     "output_type": "stream",
     "text": [
      "(139382, 54) (139382, 2)\n",
      "(139383, 54) (139383, 2)\n"
     ]
    }
   ],
   "source": [
    "Y = pd.get_dummies(data['sentiment']).values\n",
    "X_train, X_test, Y_train, Y_test = train_test_split(X,Y, test_size = 0.50, random_state = 42)\n",
    "print(X_train.shape,Y_train.shape)\n",
    "print(X_test.shape,Y_test.shape)"
   ]
  },
  {
   "cell_type": "code",
   "execution_count": 6,
   "metadata": {},
   "outputs": [
    {
     "name": "stdout",
     "output_type": "stream",
     "text": [
      "WARNING:tensorflow:From /var/300GB_DRIVE/ML_Project/ML/lib/python3.6/site-packages/tensorflow/python/ops/math_ops.py:3066: to_int32 (from tensorflow.python.ops.math_ops) is deprecated and will be removed in a future version.\n",
      "Instructions for updating:\n",
      "Use tf.cast instead.\n",
      "Epoch 1/40\n",
      " - 773s - loss: 0.2484 - acc: 0.8918\n",
      "Epoch 2/40\n",
      " - 858s - loss: 0.1694 - acc: 0.9295\n",
      "Epoch 3/40\n",
      " - 857s - loss: 0.1501 - acc: 0.9383\n",
      "Epoch 4/40\n",
      " - 857s - loss: 0.1367 - acc: 0.9451\n",
      "Epoch 5/40\n",
      " - 855s - loss: 0.1275 - acc: 0.9486\n",
      "Epoch 6/40\n",
      " - 854s - loss: 0.1188 - acc: 0.9521\n",
      "Epoch 7/40\n",
      " - 861s - loss: 0.1130 - acc: 0.9546\n",
      "Epoch 8/40\n",
      " - 858s - loss: 0.1057 - acc: 0.9576\n",
      "Epoch 9/40\n",
      " - 857s - loss: 0.1003 - acc: 0.9601\n",
      "Epoch 10/40\n",
      " - 856s - loss: 0.0954 - acc: 0.9621\n",
      "Epoch 11/40\n",
      " - 857s - loss: 0.0913 - acc: 0.9637\n",
      "Epoch 12/40\n",
      " - 856s - loss: 0.0882 - acc: 0.9644\n",
      "Epoch 13/40\n",
      " - 861s - loss: 0.0851 - acc: 0.9659\n",
      "Epoch 14/40\n",
      " - 858s - loss: 0.0813 - acc: 0.9677\n",
      "Epoch 15/40\n",
      " - 855s - loss: 0.0787 - acc: 0.9687\n",
      "Epoch 16/40\n",
      " - 855s - loss: 0.0780 - acc: 0.9689\n",
      "Epoch 17/40\n",
      " - 855s - loss: 0.0750 - acc: 0.9700\n",
      "Epoch 18/40\n",
      " - 855s - loss: 0.0738 - acc: 0.9706\n",
      "Epoch 19/40\n",
      " - 853s - loss: 0.0728 - acc: 0.9713\n",
      "Epoch 20/40\n",
      " - 855s - loss: 0.0711 - acc: 0.9716\n",
      "Epoch 21/40\n",
      " - 856s - loss: 0.0703 - acc: 0.9720\n",
      "Epoch 22/40\n",
      " - 855s - loss: 0.0696 - acc: 0.9722\n",
      "Epoch 23/40\n",
      " - 855s - loss: 0.0688 - acc: 0.9725\n",
      "Epoch 24/40\n",
      " - 856s - loss: 0.0687 - acc: 0.9727\n",
      "Epoch 25/40\n",
      " - 854s - loss: 0.0671 - acc: 0.9732\n",
      "Epoch 26/40\n",
      " - 852s - loss: 0.0679 - acc: 0.9726\n",
      "Epoch 27/40\n",
      " - 855s - loss: 0.0671 - acc: 0.9730\n",
      "Epoch 28/40\n",
      " - 855s - loss: 0.0679 - acc: 0.9731\n",
      "Epoch 29/40\n",
      " - 858s - loss: 0.0673 - acc: 0.9737\n",
      "Epoch 30/40\n",
      " - 853s - loss: 0.0661 - acc: 0.9740\n",
      "Epoch 31/40\n",
      " - 854s - loss: 0.0662 - acc: 0.9736\n",
      "Epoch 32/40\n",
      " - 853s - loss: 0.0666 - acc: 0.9734\n",
      "Epoch 33/40\n",
      " - 853s - loss: 0.0648 - acc: 0.9739\n",
      "Epoch 34/40\n",
      " - 854s - loss: 0.0653 - acc: 0.9744\n",
      "Epoch 35/40\n",
      " - 853s - loss: 0.0650 - acc: 0.9742\n",
      "Epoch 36/40\n",
      " - 852s - loss: 0.0666 - acc: 0.9738\n",
      "Epoch 37/40\n",
      " - 853s - loss: 0.0648 - acc: 0.9744\n",
      "Epoch 38/40\n",
      " - 851s - loss: 0.0658 - acc: 0.9736\n",
      "Epoch 39/40\n",
      " - 853s - loss: 0.0659 - acc: 0.9738\n",
      "Epoch 40/40\n",
      " - 854s - loss: 0.0655 - acc: 0.9738\n"
     ]
    },
    {
     "data": {
      "text/plain": [
       "<keras.callbacks.History at 0x7f513413ef60>"
      ]
     },
     "execution_count": 6,
     "metadata": {},
     "output_type": "execute_result"
    }
   ],
   "source": [
    "batch_size = 32\n",
    "model.fit(X_train, Y_train, epochs =40 , batch_size=batch_size, verbose = 2)"
   ]
  },
  {
   "cell_type": "code",
   "execution_count": 7,
   "metadata": {},
   "outputs": [
    {
     "name": "stdout",
     "output_type": "stream",
     "text": [
      "score: 0.19\n",
      "acc: 0.95\n"
     ]
    }
   ],
   "source": [
    "validation_size = 68000\n",
    "\n",
    "X_validate = X_test[-validation_size:]\n",
    "Y_validate = Y_test[-validation_size:]\n",
    "X_test = X_test[:-validation_size]\n",
    "Y_test = Y_test[:-validation_size]\n",
    "score,acc = model.evaluate(X_test, Y_test, verbose = 2, batch_size = batch_size)\n",
    "print(\"score: %.2f\" % (score))\n",
    "print(\"acc: %.2f\" % (acc))"
   ]
  },
  {
   "cell_type": "code",
   "execution_count": 8,
   "metadata": {},
   "outputs": [
    {
     "name": "stdout",
     "output_type": "stream",
     "text": [
      "pos_acc 94.02861098292571 %\n",
      "neg_acc 94.66403718833638 %\n"
     ]
    }
   ],
   "source": [
    "pos_cnt, neg_cnt, pos_correct, neg_correct = 0, 0, 0, 0\n",
    "for x in range(len(X_validate)):\n",
    "    \n",
    "    result = model.predict(X_validate[x].reshape(1,X_test.shape[1]),batch_size=1,verbose = 2)[0]\n",
    "   \n",
    "    if np.argmax(result) == np.argmax(Y_validate[x]):\n",
    "        if np.argmax(Y_validate[x]) == 0:\n",
    "            neg_correct += 1\n",
    "        else:\n",
    "            pos_correct += 1\n",
    "       \n",
    "    if np.argmax(Y_validate[x]) == 0:\n",
    "        neg_cnt += 1\n",
    "    else:\n",
    "        pos_cnt += 1\n",
    "\n",
    "print(\"pos_acc\", pos_correct/pos_cnt*100, \"%\")\n",
    "print(\"neg_acc\", neg_correct/neg_cnt*100, \"%\")"
   ]
  },
  {
   "cell_type": "code",
   "execution_count": 9,
   "metadata": {},
   "outputs": [
    {
     "name": "stdout",
     "output_type": "stream",
     "text": [
      "[[  0   0   0   0   0   0   0   0   0   0   0   0   0   0   0   0   0   0\n",
      "    0   0   0   0   0   0   0   0   0   0   0   0   0   0   0   0   0   0\n",
      "    0   0   0   0   0   0   0   0   0 135   5  44   8  29  29  31   5  44]]\n",
      "negative\n"
     ]
    }
   ],
   "source": [
    "twt = ['Meetings: Because none of us is as dumb as all of us.']\n",
    "#vectorizing the tweet by the pre-fitted tokenizer instance\n",
    "twt = tokenizer.texts_to_sequences(twt)\n",
    "#padding the tweet to have exactly the same shape as `embedding_2` input\n",
    "twt = pad_sequences(twt, maxlen=54, dtype='int32', value=0)\n",
    "print(twt)\n",
    "sentiment = model.predict(twt,batch_size=1,verbose = 2)[0]\n",
    "if(np.argmax(sentiment) == 0):\n",
    "    print(\"negative\")\n",
    "elif (np.argmax(sentiment) == 1):\n",
    "    print(\"positive\")"
   ]
  }
 ],
 "metadata": {
  "kernelspec": {
   "display_name": "Python 3",
   "language": "python",
   "name": "python3"
  },
  "language_info": {
   "codemirror_mode": {
    "name": "ipython",
    "version": 3
   },
   "file_extension": ".py",
   "mimetype": "text/x-python",
   "name": "python",
   "nbconvert_exporter": "python",
   "pygments_lexer": "ipython3",
   "version": "3.6.7"
  }
 },
 "nbformat": 4,
 "nbformat_minor": 2
}
